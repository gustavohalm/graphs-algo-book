{
 "cells": [
  {
   "cell_type": "code",
   "execution_count": null,
   "id": "42a1b0f7-ae82-491d-95aa-a055b711c890",
   "metadata": {},
   "outputs": [],
   "source": []
  }
 ],
 "metadata": {
  "kernelspec": {
   "display_name": "",
   "name": ""
  },
  "language_info": {
   "name": ""
  }
 },
 "nbformat": 4,
 "nbformat_minor": 5
}
